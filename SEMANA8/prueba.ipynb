{
 "cells": [
  {
   "cell_type": "code",
   "execution_count": 3,
   "id": "5fa71a35-e7ad-4b5f-98a1-41a1583602fd",
   "metadata": {},
   "outputs": [
    {
     "name": "stdout",
     "output_type": "stream",
     "text": [
      "The sql extension is already loaded. To reload it, use:\n",
      "  %reload_ext sql\n"
     ]
    }
   ],
   "source": [
    "\n",
    "%load_ext sql\n"
   ]
  },
  {
   "cell_type": "code",
   "execution_count": 11,
   "id": "22019e1a-0df1-4e4e-82d5-f584a3d7e205",
   "metadata": {},
   "outputs": [],
   "source": [
    "\n",
    "%sql sqlite://"
   ]
  },
  {
   "cell_type": "code",
   "execution_count": 21,
   "id": "49a90723-5f4f-46e8-80b4-1bdc4f581e97",
   "metadata": {},
   "outputs": [
    {
     "name": "stdout",
     "output_type": "stream",
     "text": [
      " * sqlite://\n",
      "(sqlite3.OperationalError) table USUARIO already exists\n",
      "[SQL: CREATE TABLE USUARIO\n",
      "(COD_USUA VARCHAR(6) NOT NULL,\n",
      "NOM_USUA CHAR (25) NOT NULL,\n",
      "COD_EST VARCHAR (25) NOT NULL);]\n",
      "(Background on this error at: https://sqlalche.me/e/20/e3q8)\n"
     ]
    }
   ],
   "source": [
    "%%sql\n",
    "CREATE TABLE USUARIO\n",
    "(COD_USUA VARCHAR(6) NOT NULL,\n",
    "NOM_USUA CHAR (25) NOT NULL,\n",
    "COD_EST VARCHAR (25) NOT NULL);"
   ]
  },
  {
   "cell_type": "code",
   "execution_count": 25,
   "id": "99d2eb8b-1f90-4f4d-9ec0-a79d46927b5a",
   "metadata": {},
   "outputs": [
    {
     "name": "stdout",
     "output_type": "stream",
     "text": [
      " * sqlite://\n",
      "Done.\n"
     ]
    },
    {
     "data": {
      "text/html": [
       "<table>\n",
       "    <thead>\n",
       "        <tr>\n",
       "            <th>COD_USUA</th>\n",
       "            <th>NOM_USUA</th>\n",
       "            <th>OD_EST</th>\n",
       "        </tr>\n",
       "    </thead>\n",
       "    <tbody>\n",
       "    </tbody>\n",
       "</table>"
      ],
      "text/plain": [
       "[]"
      ]
     },
     "execution_count": 25,
     "metadata": {},
     "output_type": "execute_result"
    }
   ],
   "source": [
    "%sql SELECT *FROM USUARIO;\n"
   ]
  },
  {
   "cell_type": "code",
   "execution_count": 37,
   "id": "9c95d8ec-2614-45ca-bca0-e939c753a8cf",
   "metadata": {},
   "outputs": [
    {
     "name": "stdout",
     "output_type": "stream",
     "text": [
      " * sqlite://\n",
      "1 rows affected.\n",
      "1 rows affected.\n",
      "1 rows affected.\n",
      "1 rows affected.\n",
      "1 rows affected.\n",
      "1 rows affected.\n",
      "1 rows affected.\n",
      "1 rows affected.\n",
      "1 rows affected.\n",
      "1 rows affected.\n",
      "1 rows affected.\n"
     ]
    },
    {
     "data": {
      "text/plain": [
       "[]"
      ]
     },
     "execution_count": 37,
     "metadata": {},
     "output_type": "execute_result"
    }
   ],
   "source": [
    "%%sql \n",
    "INSERT INTO USUARIO VALUES('U00001' , 'LUIS','ACTIVO');\n",
    "INSERT INTO USUARIO VALUES('U00002' , 'JANO','ACTIVO');\n",
    "INSERT INTO USUARIO VALUES('U00003' , 'FRANK','INACACTIVO');\n",
    "INSERT INTO USUARIO VALUES('U00004' , 'LEO','ACTIVO');\n",
    "INSERT INTO USUARIO VALUES('U00005' , 'JESUS','NULL');\n",
    "INSERT INTO USUARIO VALUES('U00006' , 'SONIA','ACTIVO');\n",
    "INSERT INTO USUARIO VALUES('U00007' , 'LESLIE','INACTIVO');\n",
    "INSERT INTO USUARIO VALUES('U00008' , 'LIZU','ACTIVO');\n",
    "INSERT INTO USUARIO VALUES('U00009' , 'JOEL','NULL');\n",
    "INSERT INTO USUARIO VALUES('U00010' , 'BEATRIZ','ACTIVO');\n",
    "INSERT INTO USUARIO VALUES('U00011' , 'CARLOS','INACTIVO');"
   ]
  },
  {
   "cell_type": "code",
   "execution_count": 39,
   "id": "9a5ae944-b758-44e9-a028-c32ca124a807",
   "metadata": {},
   "outputs": [
    {
     "name": "stdout",
     "output_type": "stream",
     "text": [
      " * sqlite://\n",
      "Done.\n"
     ]
    },
    {
     "data": {
      "text/html": [
       "<table>\n",
       "    <thead>\n",
       "        <tr>\n",
       "            <th>COD_USUA</th>\n",
       "            <th>NOM_USUA</th>\n",
       "            <th>OD_EST</th>\n",
       "        </tr>\n",
       "    </thead>\n",
       "    <tbody>\n",
       "        <tr>\n",
       "            <td>U00001</td>\n",
       "            <td>LUIS</td>\n",
       "            <td>ACTIVO</td>\n",
       "        </tr>\n",
       "        <tr>\n",
       "            <td>U00002</td>\n",
       "            <td>JANO</td>\n",
       "            <td>ACTIVO</td>\n",
       "        </tr>\n",
       "        <tr>\n",
       "            <td>U00003</td>\n",
       "            <td>FRANK</td>\n",
       "            <td>INACACTIVO</td>\n",
       "        </tr>\n",
       "        <tr>\n",
       "            <td>U00004</td>\n",
       "            <td>LEO</td>\n",
       "            <td>ACTIVO</td>\n",
       "        </tr>\n",
       "        <tr>\n",
       "            <td>U00005</td>\n",
       "            <td>JESUS</td>\n",
       "            <td>NULL</td>\n",
       "        </tr>\n",
       "        <tr>\n",
       "            <td>U00006</td>\n",
       "            <td>SONIA</td>\n",
       "            <td>ACTIVO</td>\n",
       "        </tr>\n",
       "        <tr>\n",
       "            <td>U00007</td>\n",
       "            <td>LESLIE</td>\n",
       "            <td>INACTIVO</td>\n",
       "        </tr>\n",
       "        <tr>\n",
       "            <td>U00008</td>\n",
       "            <td>LIZU</td>\n",
       "            <td>ACTIVO</td>\n",
       "        </tr>\n",
       "        <tr>\n",
       "            <td>U00009</td>\n",
       "            <td>JOEL</td>\n",
       "            <td>NULL</td>\n",
       "        </tr>\n",
       "        <tr>\n",
       "            <td>U00010</td>\n",
       "            <td>BEATRIZ</td>\n",
       "            <td>ACTIVO</td>\n",
       "        </tr>\n",
       "        <tr>\n",
       "            <td>U00011</td>\n",
       "            <td>CARLOS</td>\n",
       "            <td>INACTIVO</td>\n",
       "        </tr>\n",
       "    </tbody>\n",
       "</table>"
      ],
      "text/plain": [
       "[('U00001', 'LUIS', 'ACTIVO'),\n",
       " ('U00002', 'JANO', 'ACTIVO'),\n",
       " ('U00003', 'FRANK', 'INACACTIVO'),\n",
       " ('U00004', 'LEO', 'ACTIVO'),\n",
       " ('U00005', 'JESUS', 'NULL'),\n",
       " ('U00006', 'SONIA', 'ACTIVO'),\n",
       " ('U00007', 'LESLIE', 'INACTIVO'),\n",
       " ('U00008', 'LIZU', 'ACTIVO'),\n",
       " ('U00009', 'JOEL', 'NULL'),\n",
       " ('U00010', 'BEATRIZ', 'ACTIVO'),\n",
       " ('U00011', 'CARLOS', 'INACTIVO')]"
      ]
     },
     "execution_count": 39,
     "metadata": {},
     "output_type": "execute_result"
    }
   ],
   "source": [
    "%sql SELECT *FROM USUARIO;\n"
   ]
  },
  {
   "cell_type": "code",
   "execution_count": 56,
   "id": "7522639d-a634-407d-9a8f-da6cf7354c1a",
   "metadata": {},
   "outputs": [
    {
     "name": "stdout",
     "output_type": "stream",
     "text": [
      " * sqlite://\n",
      "1 rows affected.\n"
     ]
    },
    {
     "data": {
      "text/plain": [
       "[]"
      ]
     },
     "execution_count": 56,
     "metadata": {},
     "output_type": "execute_result"
    }
   ],
   "source": [
    "%%sql\n",
    "DELETE FROM USUARIO WHERE NOM_USUA= 'JOEL';"
   ]
  },
  {
   "cell_type": "code",
   "execution_count": 62,
   "id": "a33558e5-e68b-4ee9-a20b-3728f42c5184",
   "metadata": {},
   "outputs": [
    {
     "name": "stdout",
     "output_type": "stream",
     "text": [
      " * sqlite://\n",
      "Done.\n"
     ]
    },
    {
     "data": {
      "text/html": [
       "<table>\n",
       "    <thead>\n",
       "        <tr>\n",
       "            <th>COD_USUA</th>\n",
       "            <th>NOM_USUA</th>\n",
       "            <th>OD_EST</th>\n",
       "        </tr>\n",
       "    </thead>\n",
       "    <tbody>\n",
       "        <tr>\n",
       "            <td>U00001</td>\n",
       "            <td>LUIS</td>\n",
       "            <td>ACTIVO</td>\n",
       "        </tr>\n",
       "        <tr>\n",
       "            <td>U00002</td>\n",
       "            <td>JANO</td>\n",
       "            <td>ACTIVO</td>\n",
       "        </tr>\n",
       "        <tr>\n",
       "            <td>U00003</td>\n",
       "            <td>FRANK</td>\n",
       "            <td>INACACTIVO</td>\n",
       "        </tr>\n",
       "        <tr>\n",
       "            <td>U00004</td>\n",
       "            <td>LEO</td>\n",
       "            <td>ACTIVO</td>\n",
       "        </tr>\n",
       "        <tr>\n",
       "            <td>U00005</td>\n",
       "            <td>JESUS</td>\n",
       "            <td>NULL</td>\n",
       "        </tr>\n",
       "        <tr>\n",
       "            <td>U00006</td>\n",
       "            <td>SONIA</td>\n",
       "            <td>ACTIVO</td>\n",
       "        </tr>\n",
       "        <tr>\n",
       "            <td>U00007</td>\n",
       "            <td>LESLIE</td>\n",
       "            <td>INACTIVO</td>\n",
       "        </tr>\n",
       "        <tr>\n",
       "            <td>U00008</td>\n",
       "            <td>LIZU</td>\n",
       "            <td>ACTIVO</td>\n",
       "        </tr>\n",
       "        <tr>\n",
       "            <td>U00010</td>\n",
       "            <td>BEATRIZ</td>\n",
       "            <td>ACTIVO</td>\n",
       "        </tr>\n",
       "        <tr>\n",
       "            <td>U00011</td>\n",
       "            <td>CARLOS</td>\n",
       "            <td>INACTIVO</td>\n",
       "        </tr>\n",
       "    </tbody>\n",
       "</table>"
      ],
      "text/plain": [
       "[('U00001', 'LUIS', 'ACTIVO'),\n",
       " ('U00002', 'JANO', 'ACTIVO'),\n",
       " ('U00003', 'FRANK', 'INACACTIVO'),\n",
       " ('U00004', 'LEO', 'ACTIVO'),\n",
       " ('U00005', 'JESUS', 'NULL'),\n",
       " ('U00006', 'SONIA', 'ACTIVO'),\n",
       " ('U00007', 'LESLIE', 'INACTIVO'),\n",
       " ('U00008', 'LIZU', 'ACTIVO'),\n",
       " ('U00010', 'BEATRIZ', 'ACTIVO'),\n",
       " ('U00011', 'CARLOS', 'INACTIVO')]"
      ]
     },
     "execution_count": 62,
     "metadata": {},
     "output_type": "execute_result"
    }
   ],
   "source": [
    "%sql SELECT *FROM USUARIO;"
   ]
  },
  {
   "cell_type": "code",
   "execution_count": 65,
   "id": "274eafcd-5dbe-422c-948b-604dafe732f3",
   "metadata": {},
   "outputs": [
    {
     "ename": "SyntaxError",
     "evalue": "invalid syntax (3895469051.py, line 1)",
     "output_type": "error",
     "traceback": [
      "\u001b[1;36m  Cell \u001b[1;32mIn[65], line 1\u001b[1;36m\u001b[0m\n\u001b[1;33m    Algoritmo problema1\u001b[0m\n\u001b[1;37m              ^\u001b[0m\n\u001b[1;31mSyntaxError\u001b[0m\u001b[1;31m:\u001b[0m invalid syntax\n"
     ]
    }
   ],
   "source": [
    "Algoritmo problema1\n",
    "\tvalor <- 4.0*5\n",
    "\tEscribir \"el valor es: \" valor\n",
    "\t\n",
    "\tvalor <- 3.0^2.0 -2.0\n",
    "\tvalor <- 5.0 -2.0\n",
    "\tEscribir  \"el valor es: \" valor\n",
    "\t\n",
    "\tvalor <- 5\n",
    "\tx<- 3\n",
    "\tvalor <- valor * x\n",
    "\tEscribir \"el valor es: \" valor \n",
    "FinAlgoritmo"
   ]
  },
  {
   "cell_type": "code",
   "execution_count": null,
   "id": "20367f4d-ef94-4bc9-8f5f-4c00be666381",
   "metadata": {},
   "outputs": [],
   "source": []
  }
 ],
 "metadata": {
  "kernelspec": {
   "display_name": "Python 3 (ipykernel)",
   "language": "python",
   "name": "python3"
  },
  "language_info": {
   "codemirror_mode": {
    "name": "ipython",
    "version": 3
   },
   "file_extension": ".py",
   "mimetype": "text/x-python",
   "name": "python",
   "nbconvert_exporter": "python",
   "pygments_lexer": "ipython3",
   "version": "3.11.7"
  }
 },
 "nbformat": 4,
 "nbformat_minor": 5
}
